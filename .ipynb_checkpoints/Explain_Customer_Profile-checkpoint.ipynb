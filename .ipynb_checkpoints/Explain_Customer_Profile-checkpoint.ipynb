{
 "cells": [
  {
   "cell_type": "code",
   "execution_count": 1,
   "id": "1aa11e96-9376-4aa0-aebd-1d31d45752ca",
   "metadata": {
    "jupyter": {
     "source_hidden": true
    },
    "tags": []
   },
   "outputs": [],
   "source": [
    "import json\n",
    "with open('transaction-data-adhoc-analysis.json','r') as f:\n",
    "    data = json.load(f)"
   ]
  },
  {
   "cell_type": "code",
   "execution_count": 2,
   "id": "db09ad8f-da73-4290-9807-9a5b6dbae14b",
   "metadata": {
    "jupyter": {
     "source_hidden": true
    },
    "tags": []
   },
   "outputs": [],
   "source": [
    "import pandas as pd\n",
    "import numpy as np\n",
    "\n",
    "transaction_df = pd.DataFrame(data)\n",
    "\n",
    "transaction_df.loc[:,'transaction_date']=pd.to_datetime(transaction_df.loc[:, 'transaction_date'], format='%Y/%m/%d')\n",
    "\n",
    "sorted_df = transaction_df.sort_values(by='transaction_date')\n",
    "\n",
    "sorted_bymonth_df = sorted_df.copy()\n",
    "\n",
    "sorted_month_df = sorted_bymonth_df.drop(columns=[\"address\",\"mail\",\"username\",\"birthdate\",\n",
    "                                                 \"transaction_items\",\"transaction_value\", \"sex\"])"
   ]
  },
  {
   "cell_type": "code",
   "execution_count": 3,
   "id": "91115673-a3ec-490f-a8b4-bb081a0dd3db",
   "metadata": {
    "jupyter": {
     "source_hidden": true
    },
    "tags": []
   },
   "outputs": [],
   "source": [
    "Jan_df = sorted_month_df.loc[(sorted_month_df['transaction_date'] >= '2022-01-01')\n",
    "                     & (sorted_month_df['transaction_date'] < '2022-02-01')]\n",
    "\n",
    "Feb_df = sorted_month_df.loc[(sorted_month_df['transaction_date'] >= '2022-02-01')\n",
    "                     & (sorted_month_df['transaction_date'] < '2022-03-01')]\n",
    "\n",
    "Mar_df = sorted_month_df.loc[(sorted_month_df['transaction_date'] >= '2022-03-01')\n",
    "                     & (sorted_month_df['transaction_date'] < '2022-04-01')]\n",
    "\n",
    "Apr_df = sorted_month_df.loc[(sorted_month_df['transaction_date'] >= '2022-04-01')\n",
    "                     & (sorted_month_df['transaction_date'] < '2022-05-01')]\n",
    "\n",
    "May_df = sorted_month_df.loc[(sorted_month_df['transaction_date'] >= '2022-05-01')\n",
    "                     & (sorted_month_df['transaction_date'] < '2022-06-01')]\n",
    "\n",
    "June_df = sorted_month_df.loc[(sorted_month_df['transaction_date'] >= '2022-06-01')\n",
    "                     & (sorted_month_df['transaction_date'] < '2022-07-01')]"
   ]
  },
  {
   "cell_type": "code",
   "execution_count": 4,
   "id": "6fbbdda8-5558-4cd7-9ea4-5c486f6a2353",
   "metadata": {
    "jupyter": {
     "source_hidden": true
    },
    "tags": []
   },
   "outputs": [],
   "source": [
    "Jan_drop = Jan_df.drop_duplicates(subset=[\"name\"],keep='first')\n",
    "\n",
    "Feb_drop = Feb_df.drop_duplicates(subset=[\"name\"],keep='first')\n",
    "\n",
    "Mar_drop = Mar_df.drop_duplicates(subset=[\"name\"],keep='first')\n",
    "\n",
    "Apr_drop = Apr_df.drop_duplicates(subset=[\"name\"],keep='first')\n",
    "\n",
    "May_drop = May_df.drop_duplicates(subset=[\"name\"],keep='first')\n",
    "\n",
    "June_drop = June_df.drop_duplicates(subset=[\"name\"],keep='first')"
   ]
  },
  {
   "cell_type": "code",
   "execution_count": 5,
   "id": "9c540ce9-6b11-45a4-92e4-06e850672dcd",
   "metadata": {
    "collapsed": true,
    "jupyter": {
     "outputs_hidden": true,
     "source_hidden": true
    },
    "tags": []
   },
   "outputs": [
    {
     "data": {
      "text/plain": [
       "[0, 5172, 5216, 5154, 5110, 5193]"
      ]
     },
     "execution_count": 5,
     "metadata": {},
     "output_type": "execute_result"
    }
   ],
   "source": [
    "Feb_repeat = np.count_nonzero(Feb_drop['name'].isin(Jan_drop['name']))\n",
    "\n",
    "Mar_repeat = np.count_nonzero(Mar_drop['name'].isin(Feb_drop['name']))\n",
    "\n",
    "Apr_repeat = np.count_nonzero(Apr_drop['name'].isin(Mar_drop['name']))\n",
    "\n",
    "May_repeat = np.count_nonzero(May_drop['name'].isin(Apr_drop['name']))\n",
    "\n",
    "June_repeat = np.count_nonzero(June_drop['name'].isin(May_drop['name']))\n",
    "\n",
    "repeaters = [0, Feb_repeat, Mar_repeat, Apr_repeat, May_repeat, June_repeat]\n",
    "\n",
    "repeaters"
   ]
  },
  {
   "cell_type": "code",
   "execution_count": 6,
   "id": "261265d5-bb2b-43ca-8a80-33cfc6ca954a",
   "metadata": {
    "jupyter": {
     "source_hidden": true
    },
    "tags": []
   },
   "outputs": [],
   "source": [
    "Jan_Feb = sorted_month_df.loc[(sorted_month_df['transaction_date'] >= '2022-01-01')\n",
    "                     & (sorted_month_df['transaction_date'] < '2022-03-01')]\n",
    "\n",
    "Jan_Mar = sorted_month_df.loc[(sorted_month_df['transaction_date'] >= '2022-01-01')\n",
    "                     & (sorted_month_df['transaction_date'] < '2022-04-01')]\n",
    "\n",
    "Jan_Apr = sorted_month_df.loc[(sorted_month_df['transaction_date'] >= '2022-01-01')\n",
    "                     & (sorted_month_df['transaction_date'] < '2022-05-01')]\n",
    "\n",
    "Jan_May = sorted_month_df.loc[(sorted_month_df['transaction_date'] >= '2022-01-01')\n",
    "                     & (sorted_month_df['transaction_date'] < '2022-06-01')]"
   ]
  },
  {
   "cell_type": "code",
   "execution_count": 7,
   "id": "12a8e35c-2a17-4feb-92e3-3e2b558f321e",
   "metadata": {
    "jupyter": {
     "source_hidden": true
    },
    "tags": []
   },
   "outputs": [],
   "source": [
    "Jan_Feb_drop = Jan_Feb.drop_duplicates(subset=[\"name\"],keep='first')\n",
    "\n",
    "Jan_Mar_drop = Jan_Mar.drop_duplicates(subset=[\"name\"],keep='first')\n",
    "\n",
    "Jan_Apr_drop = Jan_Apr.drop_duplicates(subset=[\"name\"],keep='first')\n",
    "\n",
    "Jan_May_drop = Jan_May.drop_duplicates(subset=[\"name\"],keep='first')"
   ]
  },
  {
   "cell_type": "code",
   "execution_count": 8,
   "id": "1d67bbeb-917b-43fa-88f9-3ed3e2da652e",
   "metadata": {
    "collapsed": true,
    "jupyter": {
     "outputs_hidden": true,
     "source_hidden": true
    },
    "tags": []
   },
   "outputs": [
    {
     "data": {
      "text/plain": [
       "[0, 1416, 1747, 1909, 1917, 1835]"
      ]
     },
     "execution_count": 8,
     "metadata": {},
     "output_type": "execute_result"
    }
   ],
   "source": [
    "Feb_inactive = len(Jan_drop) - np.count_nonzero(Jan_drop['name'].isin(Feb_drop['name']))\n",
    "\n",
    "Mar_inactive = len(Jan_Feb_drop) - np.count_nonzero(Jan_Feb_drop['name'].isin(Mar_drop['name']))\n",
    "\n",
    "Apr_inactive = len(Jan_Mar_drop) - np.count_nonzero(Jan_Mar_drop['name'].isin(Apr_drop['name']))\n",
    "\n",
    "May_inactive = len(Jan_Apr_drop) - np.count_nonzero(Jan_Apr_drop['name'].isin(May_drop['name']))\n",
    "\n",
    "June_inactive = len(Jan_May_drop) - np.count_nonzero(Jan_May_drop['name'].isin(June_drop['name']))\n",
    "\n",
    "inactive = [0, Feb_inactive, Mar_inactive, Apr_inactive, May_inactive, June_inactive]\n",
    "\n",
    "inactive"
   ]
  },
  {
   "cell_type": "code",
   "execution_count": 9,
   "id": "26b7ea14-4345-4c88-8395-d256808b3414",
   "metadata": {
    "jupyter": {
     "source_hidden": true
    },
    "tags": []
   },
   "outputs": [],
   "source": [
    "Jan_Feb_all = pd.concat([Jan_drop,Feb_drop])\n",
    "\n",
    "e = Jan_Feb_all['name'].value_counts()\n",
    "\n",
    "Feb_dupli = Jan_Feb_all[Jan_Feb_all['name'].isin(e[e>1].index)]\n",
    "\n",
    "Feb_dupli_drop = Feb_dupli.drop_duplicates(subset=[\"name\"],keep='first')\n",
    "\n",
    "Feb_Engaged = len(Feb_dupli_drop)"
   ]
  },
  {
   "cell_type": "code",
   "execution_count": 10,
   "id": "371a987c-edf1-4a10-8447-7e797272d637",
   "metadata": {
    "jupyter": {
     "source_hidden": true
    },
    "tags": []
   },
   "outputs": [],
   "source": [
    "Jan_Mar_all = pd.concat([Jan_drop,Feb_drop,Mar_drop])\n",
    "\n",
    "f = Jan_Mar_all['name'].value_counts()\n",
    "\n",
    "Mar_dupli = Jan_Mar_all[Jan_Mar_all['name'].isin(f[f>2].index)]\n",
    "\n",
    "Mar_dupli_drop = Mar_dupli.drop_duplicates(subset=[\"name\"],keep='first')\n",
    "\n",
    "Mar_Engaged = len(Mar_dupli_drop)"
   ]
  },
  {
   "cell_type": "code",
   "execution_count": 11,
   "id": "5ab2ba2f-560d-4b8d-9843-622d4b554bd7",
   "metadata": {
    "jupyter": {
     "source_hidden": true
    },
    "tags": []
   },
   "outputs": [],
   "source": [
    "Jan_Apr_all = pd.concat([Jan_drop,Feb_drop,Mar_drop,Apr_drop])\n",
    "\n",
    "g = Jan_Apr_all['name'].value_counts()\n",
    "\n",
    "Apr_dupli = Jan_Apr_all[Jan_Apr_all['name'].isin(g[g>3].index)]\n",
    "\n",
    "Apr_dupli_drop = Apr_dupli.drop_duplicates(subset=[\"name\"],keep='first')\n",
    "\n",
    "Apr_Engaged = len(Apr_dupli_drop)"
   ]
  },
  {
   "cell_type": "code",
   "execution_count": 12,
   "id": "28a26b22-ba9d-40c3-8dd9-b87c832421f8",
   "metadata": {
    "jupyter": {
     "source_hidden": true
    },
    "tags": []
   },
   "outputs": [],
   "source": [
    "Jan_May_all = pd.concat([Jan_drop,Feb_drop,Mar_drop,Apr_drop,May_drop])\n",
    "\n",
    "h = Jan_May_all['name'].value_counts()\n",
    "\n",
    "May_dupli = Jan_May_all[Jan_May_all['name'].isin(h[h>4].index)]\n",
    "\n",
    "May_dupli_drop = May_dupli.drop_duplicates(subset=[\"name\"],keep='first')\n",
    "\n",
    "May_Engaged = len(May_dupli_drop)"
   ]
  },
  {
   "cell_type": "code",
   "execution_count": 13,
   "id": "e5362082-798a-47c9-b8d0-fb69e6707eaa",
   "metadata": {
    "jupyter": {
     "source_hidden": true
    },
    "tags": []
   },
   "outputs": [],
   "source": [
    "Jan_June_all = pd.concat([Jan_drop,Feb_drop,Mar_drop,Apr_drop,May_drop,June_drop])\n",
    "\n",
    "i = Jan_June_all['name'].value_counts()\n",
    "\n",
    "June_dupli = Jan_June_all[Jan_June_all['name'].isin(i[i>5].index)]\n",
    "\n",
    "June_dupli_drop = June_dupli.drop_duplicates(subset=[\"name\"],keep='first')\n",
    "\n",
    "June_Engaged = len(June_dupli_drop)"
   ]
  },
  {
   "cell_type": "code",
   "execution_count": 14,
   "id": "2ddefa76-594a-453f-adc5-066317fce070",
   "metadata": {
    "collapsed": true,
    "jupyter": {
     "outputs_hidden": true,
     "source_hidden": true
    },
    "tags": []
   },
   "outputs": [
    {
     "data": {
      "text/plain": [
       "[6588, 5172, 4126, 3289, 2667, 2190]"
      ]
     },
     "execution_count": 14,
     "metadata": {},
     "output_type": "execute_result"
    }
   ],
   "source": [
    "engaged = [len(Jan_drop), Feb_Engaged, Mar_Engaged, Apr_Engaged, May_Engaged, June_Engaged]\n",
    "\n",
    "engaged"
   ]
  },
  {
   "cell_type": "code",
   "execution_count": 15,
   "id": "3106fe43-6044-4417-8555-7793c8f82818",
   "metadata": {
    "jupyter": {
     "source_hidden": true
    },
    "tags": []
   },
   "outputs": [],
   "source": [
    "import matplotlib.pyplot as plt\n",
    "from pandas.plotting import table\n",
    "\n",
    "customer_profile_data = [repeaters,inactive,engaged]\n",
    "\n",
    "columns = [\"Jan 2022\",\"Feb 2022\",\"Mar 2022\",\"April 2022\",\"May 2022\",\"June 2022\"]\n",
    "rows = [\"Repeaters\",\"Inactive\",\"Engaged\"]"
   ]
  },
  {
   "cell_type": "markdown",
   "id": "b7e962d2-c7b1-4513-bb3d-0495b66b37a4",
   "metadata": {},
   "source": [
    "# Customer Profile"
   ]
  },
  {
   "cell_type": "markdown",
   "id": "a83ea96f-b4ce-4407-86df-cddb46b8fcbc",
   "metadata": {},
   "source": [
    "After sorting the data by month, and removing the duplicate names in that month, I was able to gather dataframes of the total customers per month. Given this, I was able to discover the number of people in the current month who also purchased in the previous month, which we call the \"Repeaters\". I also discovered the number of people who did not purchase for the current month but had purchase history in the previous months, which we call the \"Inactive\". Lastly, the \"Engaged\" are the ones who consistently purchase every single month."
   ]
  },
  {
   "cell_type": "markdown",
   "id": "fc8103b4-dc7b-4722-af56-f92f5cd58ec0",
   "metadata": {},
   "source": [
    "Below is a dataframe of the given customer profile required."
   ]
  },
  {
   "cell_type": "code",
   "execution_count": 16,
   "id": "62615e4e-e27e-4a6f-9f39-3762620bc335",
   "metadata": {
    "jupyter": {
     "source_hidden": true
    },
    "tags": []
   },
   "outputs": [
    {
     "data": {
      "text/html": [
       "<div>\n",
       "<style scoped>\n",
       "    .dataframe tbody tr th:only-of-type {\n",
       "        vertical-align: middle;\n",
       "    }\n",
       "\n",
       "    .dataframe tbody tr th {\n",
       "        vertical-align: top;\n",
       "    }\n",
       "\n",
       "    .dataframe thead th {\n",
       "        text-align: right;\n",
       "    }\n",
       "</style>\n",
       "<table border=\"1\" class=\"dataframe\">\n",
       "  <thead>\n",
       "    <tr style=\"text-align: right;\">\n",
       "      <th></th>\n",
       "      <th>Jan 2022</th>\n",
       "      <th>Feb 2022</th>\n",
       "      <th>Mar 2022</th>\n",
       "      <th>April 2022</th>\n",
       "      <th>May 2022</th>\n",
       "      <th>June 2022</th>\n",
       "    </tr>\n",
       "  </thead>\n",
       "  <tbody>\n",
       "    <tr>\n",
       "      <th>Repeaters</th>\n",
       "      <td>0</td>\n",
       "      <td>5172</td>\n",
       "      <td>5216</td>\n",
       "      <td>5154</td>\n",
       "      <td>5110</td>\n",
       "      <td>5193</td>\n",
       "    </tr>\n",
       "    <tr>\n",
       "      <th>Inactive</th>\n",
       "      <td>0</td>\n",
       "      <td>1416</td>\n",
       "      <td>1747</td>\n",
       "      <td>1909</td>\n",
       "      <td>1917</td>\n",
       "      <td>1835</td>\n",
       "    </tr>\n",
       "    <tr>\n",
       "      <th>Engaged</th>\n",
       "      <td>6588</td>\n",
       "      <td>5172</td>\n",
       "      <td>4126</td>\n",
       "      <td>3289</td>\n",
       "      <td>2667</td>\n",
       "      <td>2190</td>\n",
       "    </tr>\n",
       "  </tbody>\n",
       "</table>\n",
       "</div>"
      ],
      "text/plain": [
       "           Jan 2022  Feb 2022  Mar 2022  April 2022  May 2022  June 2022\n",
       "Repeaters         0      5172      5216        5154      5110       5193\n",
       "Inactive          0      1416      1747        1909      1917       1835\n",
       "Engaged        6588      5172      4126        3289      2667       2190"
      ]
     },
     "execution_count": 16,
     "metadata": {},
     "output_type": "execute_result"
    }
   ],
   "source": [
    "customer_profile_data = [repeaters,inactive,engaged]\n",
    "customer_profile_df = pd.DataFrame(customer_profile_data, columns=columns)\n",
    "customer_profile_df.index = [\"Repeaters\",\"Inactive\",\"Engaged\"]\n",
    "customer_profile_df"
   ]
  },
  {
   "cell_type": "markdown",
   "id": "fd2cd3ce-2060-4e8a-8b3a-dcaa06e1cb52",
   "metadata": {},
   "source": [
    "Below is a tabular version of the dataframe provided above."
   ]
  },
  {
   "cell_type": "code",
   "execution_count": 17,
   "id": "2d9b02d7-d1c3-4c2b-a85f-4c543947ee90",
   "metadata": {
    "jupyter": {
     "source_hidden": true
    },
    "tags": []
   },
   "outputs": [
    {
     "name": "stdout",
     "output_type": "stream",
     "text": [
      "╒═══════════╤════════════╤════════════╤════════════╤══════════════╤════════════╤═════════════╕\n",
      "│           │   Jan 2022 │   Feb 2022 │   Mar 2022 │   April 2022 │   May 2022 │   June 2022 │\n",
      "╞═══════════╪════════════╪════════════╪════════════╪══════════════╪════════════╪═════════════╡\n",
      "│ Repeaters │          0 │       5172 │       5216 │         5154 │       5110 │        5193 │\n",
      "├───────────┼────────────┼────────────┼────────────┼──────────────┼────────────┼─────────────┤\n",
      "│ Inactive  │          0 │       1416 │       1747 │         1909 │       1917 │        1835 │\n",
      "├───────────┼────────────┼────────────┼────────────┼──────────────┼────────────┼─────────────┤\n",
      "│ Engaged   │       6588 │       5172 │       4126 │         3289 │       2667 │        2190 │\n",
      "╘═══════════╧════════════╧════════════╧════════════╧══════════════╧════════════╧═════════════╛\n"
     ]
    }
   ],
   "source": [
    "repeaters2 = [\"Repeaters\",0, Feb_repeat, Mar_repeat, Apr_repeat, May_repeat, June_repeat]\n",
    "inactive2 = [\"Inactive\",0, Feb_inactive, Mar_inactive, Apr_inactive, May_inactive, June_inactive]\n",
    "engaged2 = [\"Engaged\",len(Jan_drop), Feb_Engaged, Mar_Engaged, Apr_Engaged, May_Engaged, June_Engaged]\n",
    "customer_profile_data2 = [repeaters2,inactive2,engaged2]\n",
    "\n",
    "from tabulate import tabulate\n",
    "print(tabulate(customer_profile_data2, headers=columns, tablefmt=\"fancy_grid\"))"
   ]
  },
  {
   "cell_type": "markdown",
   "id": "9a17ecf7-ea7f-4f8f-96be-7030f7b0fb68",
   "metadata": {},
   "source": [
    "### Graph of the Customer Profile"
   ]
  },
  {
   "cell_type": "markdown",
   "id": "99a6bf8e-d9e6-4e44-b29d-94b0e407fd62",
   "metadata": {},
   "source": [
    "Below is a graph of the Customer Profile. I chose to present the data in a multiple bar graph to see the differences between the different types of customers and how they all changed throughout the months."
   ]
  },
  {
   "cell_type": "code",
   "execution_count": 18,
   "id": "fef3475a-4c80-4300-913f-abc81fd16ffd",
   "metadata": {
    "jupyter": {
     "source_hidden": true
    },
    "tags": []
   },
   "outputs": [
    {
     "data": {
      "image/png": "[encoded data removed]",
      "text/plain": [
       "<Figure size 432x288 with 1 Axes>"
      ]
     },
     "metadata": {
      "needs_background": "light"
     },
     "output_type": "display_data"
    }
   ],
   "source": [
    "x_graph = columns\n",
    "y_repeaters = repeaters\n",
    "y_inactive = inactive\n",
    "y_engaged = engaged\n",
    "  \n",
    "X_axis = np.arange(len(x_graph))\n",
    "  \n",
    "plt.bar(X_axis - 0.2, y_repeaters, 0.2, label = 'Repeaters')\n",
    "plt.bar(X_axis, y_inactive, 0.2, label = 'Inactive')\n",
    "plt.bar(X_axis + 0.2, y_engaged, 0.2, label = 'Engaged')\n",
    "  \n",
    "plt.xticks(X_axis, x_graph)\n",
    "plt.xlabel(\"Months\")\n",
    "plt.ylabel(\"Number of Customers\")\n",
    "plt.title(\"Customer Profile\")\n",
    "plt.legend()\n",
    "plt.show()"
   ]
  },
  {
   "cell_type": "markdown",
   "id": "2b86693d-e80e-45d8-bb7d-78ca3c5fc190",
   "metadata": {},
   "source": [
    "The number of \"Repeaters\" are more or less the same in the months of February to June, which ranged from 5,100-5,220 people. The highest number of \"Repeaters\" were in the month of March 2022, with a total of 5,216. Excluding the month of January, the lowest number would be in the month of May 2022, with a total of 5,110. One should note that the \"Repeaters\" of one month may or may not be the same as the \"Repeaters\" of another month, because \"Repeaters\" only includes the number of people who have purchased in the current month and the month before it."
   ]
  },
  {
   "cell_type": "markdown",
   "id": "a37d12c3-ee94-434c-b660-33453d4884c0",
   "metadata": {},
   "source": [
    "I noticed that the number of \"Inactive\" people slowly increased as the months went by, but decreased in the last month. The highest number of \"Inactive\" people were in the month of May 2022, with a total of 1,917. Comparing it with the \"Repeaters\", the month of May had the least number of \"Repeaters\" and the most number of \"Inactive\" people. Something must have happened in May to give this kind of data. Excluding the month of January, the lowest number would be in the month of Feb 2022, with a total of 1,416 people. Although, it is important to note that the \"Inactive\" people are those who do not have a purchase in the given month but had purchase history in any previous month."
   ]
  },
  {
   "cell_type": "markdown",
   "id": "9a16c01b-77e4-471d-a2e7-2b64dda1b923",
   "metadata": {},
   "source": [
    "Lastly, the number of \"Engaged\" significantly decreased through the months. It is important to know that the data in each month consists of those who purchased in that month and who consistently purchased in the months before it. For example, the number of \"Engaged\" in Feb consists of those who purchased in both Jan and Feb, while in March consists of those who purchased in Jan, Feb, and March, and so on. Thus, June 2022 with a total of 2,190 people, consisted of those who were \"Engaged\" in all 6 months."
   ]
  },
  {
   "cell_type": "code",
   "execution_count": null,
   "id": "98b978e6-437e-4c95-a5a1-691c7ab67815",
   "metadata": {},
   "outputs": [],
   "source": []
  }
 ],
 "metadata": {
  "kernelspec": {
   "display_name": "Python 3 (ipykernel)",
   "language": "python",
   "name": "python3"
  },
  "language_info": {
   "codemirror_mode": {
    "name": "ipython",
    "version": 3
   },
   "file_extension": ".py",
   "mimetype": "text/x-python",
   "name": "python",
   "nbconvert_exporter": "python",
   "pygments_lexer": "ipython3",
   "version": "3.9.12"
  }
 },
 "nbformat": 4,
 "nbformat_minor": 5
}
